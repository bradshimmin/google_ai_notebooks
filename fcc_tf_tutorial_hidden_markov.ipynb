{
  "nbformat": 4,
  "nbformat_minor": 0,
  "metadata": {
    "colab": {
      "name": "fcc_tf_tutorial_hidden_markov.ipynb",
      "provenance": [],
      "collapsed_sections": [],
      "mount_file_id": "1juuhIP-C9MF4I_DMN8xF9G3v4fO2qeJV",
      "authorship_tag": "ABX9TyPFRELwEoJldX6XSxfw2dKi",
      "include_colab_link": true
    },
    "kernelspec": {
      "name": "python3",
      "display_name": "Python 3"
    },
    "language_info": {
      "name": "python"
    }
  },
  "cells": [
    {
      "cell_type": "markdown",
      "metadata": {
        "id": "view-in-github",
        "colab_type": "text"
      },
      "source": [
        "<a href=\"https://colab.research.google.com/github/bradshimmin/google_ai_notebooks/blob/master/fcc_tf_tutorial_hidden_markov.ipynb\" target=\"_parent\"><img src=\"https://colab.research.google.com/assets/colab-badge.svg\" alt=\"Open In Colab\"/></a>"
      ]
    },
    {
      "cell_type": "code",
      "metadata": {
        "colab": {
          "base_uri": "https://localhost:8080/"
        },
        "id": "oPC-aX8SpxGX",
        "outputId": "18430d44-e3fa-4e45-94b7-e1935e669e97"
      },
      "source": [
        "# TensorFlow probability tutorial\n",
        "# https://www.tensorflow.org/probability/\n",
        "# https://www.freecodecamp.org/learn/machine-learning-with-python/tensorflow/core-learning-algorithms-using-probabilities-to-make-predictions\n",
        "\n",
        "import tensorflow_probability as tfp\n",
        "import tensorflow as tf\n",
        "tf.version\n",
        "print(f\"using TensorFlow version {tf.version.VERSION}\")\n",
        "# print(f\"using TF Probability version {tfd.version.VERSION}\")\n",
        "print(\"all done\")"
      ],
      "execution_count": null,
      "outputs": [
        {
          "output_type": "stream",
          "text": [
            "using TensorFlow version 2.5.0\n",
            "all done\n"
          ],
          "name": "stdout"
        }
      ]
    },
    {
      "cell_type": "code",
      "metadata": {
        "colab": {
          "base_uri": "https://localhost:8080/"
        },
        "id": "RqJ6Egw7p5LJ",
        "outputId": "5bd22843-b52f-460f-b390-f3c222be8cbd"
      },
      "source": [
        "# cold days are encoded by 0 and hot days encoded by 1.\n",
        "\n",
        "tfd = tfp.distributions # making a shortcut for later on\n",
        "initial_distribution = tfd.Categorical(probs = [0.8, 0.2]) # 80% chance of being cold\n",
        "transition_distribution = tfd.Categorical(probs = [[0.7, 0.3],\n",
        "                                                   [0.2, 0.8]])\n",
        "observation_distribution = tfd.Normal(loc = [0., 15.], scale = [5., 10.])\n",
        "print(\"all done\")\n",
        "# Note that loc represents the mean and the scale of the standard dev we're using.\n",
        "# two states = two probabilities of a given state"
      ],
      "execution_count": null,
      "outputs": [
        {
          "output_type": "stream",
          "text": [
            "all done\n"
          ],
          "name": "stdout"
        }
      ]
    },
    {
      "cell_type": "code",
      "metadata": {
        "id": "OD3r0j3Jp8Bu",
        "colab": {
          "base_uri": "https://localhost:8080/"
        },
        "outputId": "7c0e5a17-cfc5-4454-eccf-cfac160915ec"
      },
      "source": [
        "model = tfd.HiddenMarkovModel(\n",
        "    initial_distribution = initial_distribution,\n",
        "    transition_distribution = transition_distribution,\n",
        "    observation_distribution = observation_distribution,\n",
        "    num_steps = 7\n",
        ")\n",
        "print(\"all done\")"
      ],
      "execution_count": null,
      "outputs": [
        {
          "output_type": "stream",
          "text": [
            "all done\n"
          ],
          "name": "stdout"
        }
      ]
    },
    {
      "cell_type": "code",
      "metadata": {
        "colab": {
          "base_uri": "https://localhost:8080/"
        },
        "id": "bGAtHWrpqt71",
        "outputId": "1a021175-c220-4004-c6df-bd11404753cf"
      },
      "source": [
        "# Let's look at how the model is working\n",
        "mean = model.mean()\n",
        "print(mean)\n",
        "# this will show the predicted temperatures for each defined day."
      ],
      "execution_count": null,
      "outputs": [
        {
          "output_type": "stream",
          "text": [
            "tf.Tensor([2.9999998 5.9999995 7.4999995 8.25      8.625001  8.812501  8.90625  ], shape=(7,), dtype=float32)\n"
          ],
          "name": "stdout"
        }
      ]
    },
    {
      "cell_type": "code",
      "metadata": {
        "colab": {
          "base_uri": "https://localhost:8080/"
        },
        "id": "NiCVVciqroBT",
        "outputId": "bcbc7f2c-a1a4-4250-d8fc-f342e17d7124"
      },
      "source": [
        "# Let's change some of our probabilties and see what happens.\n",
        "initial_distribution = tfd.Categorical(probs = [0.8, 0.2]) # 80% chance of being cold\n",
        "transition_distribution = tfd.Categorical(probs = [[0.5, 0.3],\n",
        "                                                   [0.2, 0.8]])\n",
        "observation_distribution = tfd.Normal(loc = [0., 15.], scale = [5., 10.])\n",
        "\n",
        "model = tfd.HiddenMarkovModel(\n",
        "    initial_distribution = initial_distribution,\n",
        "    transition_distribution = transition_distribution,\n",
        "    observation_distribution = observation_distribution,\n",
        "    num_steps = 7\n",
        ")\n",
        "\n",
        "print(\"all done\")\n"
      ],
      "execution_count": null,
      "outputs": [
        {
          "output_type": "stream",
          "text": [
            "all done\n"
          ],
          "name": "stdout"
        }
      ]
    },
    {
      "cell_type": "markdown",
      "metadata": {
        "id": "r_Zhcja-jmXQ"
      },
      "source": [
        "# New Section"
      ]
    },
    {
      "cell_type": "code",
      "metadata": {
        "colab": {
          "base_uri": "https://localhost:8080/"
        },
        "id": "wPnTGOJAsOWd",
        "outputId": "5940b835-22d1-40d6-cccd-63a0ee8afe34"
      },
      "source": [
        "# Let's look at how the model is working\n",
        "mean = model.mean()\n",
        "print(mean)\n",
        "# Looks like our temps will change quite a bit just by changing \n",
        "# our cold day transitioning to a hot day probability to 50%!\n"
      ],
      "execution_count": null,
      "outputs": [
        {
          "output_type": "stream",
          "text": [
            "tf.Tensor([2.9999998 6.8999996 8.5575    9.261938  9.561324  9.688563  9.7426405], shape=(7,), dtype=float32)\n"
          ],
          "name": "stdout"
        }
      ]
    },
    {
      "cell_type": "code",
      "metadata": {
        "id": "rzBTB4H7sPao"
      },
      "source": [
        ""
      ],
      "execution_count": null,
      "outputs": []
    }
  ]
}